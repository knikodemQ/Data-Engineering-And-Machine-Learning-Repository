{
 "cells": [
  {
   "cell_type": "code",
   "execution_count": 7,
   "id": "f4f246dc",
   "metadata": {},
   "outputs": [
    {
     "name": "stdout",
     "output_type": "stream",
     "text": [
      "Package             Version\n",
      "------------------- ------------\n",
      "asttokens           2.0.5\n",
      "backcall            0.2.0\n",
      "Bottleneck          1.3.7\n",
      "colorama            0.4.6\n",
      "comm                0.1.2\n",
      "contourpy           1.2.0\n",
      "cycler              0.11.0\n",
      "debugpy             1.6.7\n",
      "decorator           5.1.1\n",
      "exceptiongroup      1.0.4\n",
      "executing           0.8.3\n",
      "fonttools           4.25.0\n",
      "importlib-metadata  6.0.0\n",
      "importlib-resources 6.1.1\n",
      "ipykernel           6.25.0\n",
      "ipython             8.15.0\n",
      "jedi                0.18.1\n",
      "joblib              1.3.2\n",
      "jupyter_client      8.6.0\n",
      "jupyter_core        5.5.0\n",
      "kiwisolver          1.4.4\n",
      "matplotlib          3.8.0\n",
      "matplotlib-inline   0.1.6\n",
      "mkl-fft             1.3.8\n",
      "mkl-random          1.2.4\n",
      "mkl-service         2.4.0\n",
      "munkres             1.1.4\n",
      "nest-asyncio        1.5.6\n",
      "numexpr             2.8.7\n",
      "numpy               1.26.4\n",
      "packaging           23.1\n",
      "pandas              2.1.4\n",
      "parso               0.8.3\n",
      "pickleshare         0.7.5\n",
      "pillow              10.2.0\n",
      "pip                 23.3.1\n",
      "platformdirs        3.10.0\n",
      "ply                 3.11\n",
      "prompt-toolkit      3.0.36\n",
      "psutil              5.9.0\n",
      "psycopg2-binary     2.9.10\n",
      "pure-eval           0.2.2\n",
      "Pygments            2.15.1\n",
      "pyparsing           3.0.9\n",
      "PyQt5               5.15.10\n",
      "PyQt5-sip           12.13.0\n",
      "python-dateutil     2.8.2\n",
      "pytz                2023.3.post1\n",
      "pywin32             305.1\n",
      "pyzmq               25.1.0\n",
      "scikit-learn        1.4.1.post1\n",
      "scipy               1.12.0\n",
      "seaborn             0.13.2\n",
      "setuptools          68.2.2\n",
      "sip                 6.7.12\n",
      "six                 1.16.0\n",
      "stack-data          0.2.0\n",
      "threadpoolctl       3.3.0\n",
      "tomli               2.0.1\n",
      "tornado             6.3.3\n",
      "traitlets           5.7.1\n",
      "typing_extensions   4.7.1\n",
      "tzdata              2023.3\n",
      "wcwidth             0.2.5\n",
      "wheel               0.41.2\n",
      "zipp                3.17.0\n"
     ]
    }
   ],
   "source": [
    "!pip list"
   ]
  }
 ],
 "metadata": {
  "kernelspec": {
   "display_name": "environ",
   "language": "python",
   "name": "python3"
  },
  "language_info": {
   "codemirror_mode": {
    "name": "ipython",
    "version": 3
   },
   "file_extension": ".py",
   "mimetype": "text/x-python",
   "name": "python",
   "nbconvert_exporter": "python",
   "pygments_lexer": "ipython3",
   "version": "3.9.18"
  }
 },
 "nbformat": 4,
 "nbformat_minor": 5
}
