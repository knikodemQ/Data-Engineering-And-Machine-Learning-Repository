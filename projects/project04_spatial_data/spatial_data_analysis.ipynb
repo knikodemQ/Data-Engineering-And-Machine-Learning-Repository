{
 "cells": [
  {
   "cell_type": "markdown",
   "id": "dc9f439c",
   "metadata": {},
   "source": [
    "# Project 04: Spatial Data Analysis and Geoprocessing Pipeline\n",
    "\n",
    "This project demonstrates advanced spatial data analysis using geospatial Python libraries. It covers:\n",
    "- Loading and processing GeoJSON spatial datasets\n",
    "- Buffer analysis and spatial joins\n",
    "- Coordinate reference system (CRS) transformations\n",
    "- Road network extraction from OpenStreetMap\n",
    "- Geospatial aggregation and visualization\n",
    "- Automated export of geoprocessed results\n",
    "\n",
    "## Dataset\n",
    "Multiple GeoJSON files representing points, roads, and country boundaries, plus OpenStreetMap data for road network analysis."
   ]
  },
  {
   "cell_type": "markdown",
   "id": "30874adb",
   "metadata": {},
   "source": [
    "## 1. Import Libraries and Setup"
   ]
  },
  {
   "cell_type": "code",
   "execution_count": 1,
   "id": "98de0bc1",
   "metadata": {},
   "outputs": [
    {
     "name": "stdout",
     "output_type": "stream",
     "text": [
      "Libraries imported successfully\n"
     ]
    }
   ],
   "source": [
    "import geopandas as gpd\n",
    "import pyrosm\n",
    "import json\n",
    "import matplotlib.pyplot as plt\n",
    "from shapely.ops import linemerge\n",
    "from pathlib import Path\n",
    "import warnings\n",
    "warnings.filterwarnings('ignore')\n",
    "\n",
    "DATA_PATH = Path('data')\n",
    "OUTPUT_PATH = Path('output')\n",
    "OUTPUT_PATH.mkdir(exist_ok=True)\n",
    "\n",
    "print(\"Libraries imported successfully\")"
   ]
  },
  {
   "cell_type": "markdown",
   "id": "b996c009",
   "metadata": {},
   "source": [
    "## 2. Load Parameters and GeoJSON Data"
   ]
  },
  {
   "cell_type": "code",
   "execution_count": 2,
   "id": "9b062796",
   "metadata": {},
   "outputs": [
    {
     "name": "stdout",
     "output_type": "stream",
     "text": [
      "{'city': 'Cracow', 'city_pyrosm': 'Cracow', 'city_osmnx': 'KrakĂłw, Poland', 'id_column': 'lamp_id'}\n",
      "   lamp_id circuit       label                         geometry\n",
      "0     5907    4260  4260 III/9  POINT (2215161.628 6459108.749)\n",
      "1     5908    4104    4104 I/7  POINT (2214299.747 6459283.830)\n",
      "2     5909    4070    4070 I/8  POINT (2215058.617 6458937.362)\n",
      "3     5910    4148   4148 I/14  POINT (2214001.935 6459017.980)\n",
      "4     5911    4148    4148 I/4  POINT (2214331.397 6458976.290)\n"
     ]
    }
   ],
   "source": [
    "with open(DATA_PATH / 'proj4_params.json', 'r') as params_file:\n",
    "    params = json.load(params_file)\n",
    "print(params)\n",
    "\n",
    "points = gpd.read_file(DATA_PATH / 'proj4_points.geojson')\n",
    "print(points.head())"
   ]
  },
  {
   "cell_type": "markdown",
   "id": "60d3ff0d",
   "metadata": {},
   "source": [
    "## 3. Buffer Analysis and Spatial Join"
   ]
  },
  {
   "cell_type": "code",
   "execution_count": 3,
   "id": "9ef44e16",
   "metadata": {},
   "outputs": [
    {
     "name": "stdout",
     "output_type": "stream",
     "text": [
      "   lamp_id  count\n",
      "0     5907     16\n",
      "1     5908     16\n",
      "2     5909     17\n",
      "3     5910     20\n",
      "4     5911      9\n"
     ]
    }
   ],
   "source": [
    "lamp_id = points['lamp_id']\n",
    "b_points = points.copy()\n",
    "b_points['geometry'] = b_points['geometry'].buffer(155.8)\n",
    "joined = gpd.sjoin(points, b_points, predicate='intersects')\n",
    "counts = joined.groupby(lamp_id).size().reset_index(name='count')\n",
    "counts.to_csv(OUTPUT_PATH / 'proj4_ex01_counts.csv', index=False)\n",
    "\n",
    "points2 = points.copy().to_crs(epsg=4326)\n",
    "points2['lat'] = points2.geometry.y.round(7)\n",
    "points2['lon'] = points2.geometry.x.round(7)\n",
    "points2 = points2[['lamp_id', 'circuit', 'label', 'lat', 'lon']]\n",
    "coords_df = points2[['lamp_id', 'lat', 'lon']]\n",
    "coords_df.to_csv(OUTPUT_PATH / 'proj4_ex01_coords.csv', index=False)\n",
    "print(counts.head())"
   ]
  },
  {
   "cell_type": "markdown",
   "id": "e032eeee",
   "metadata": {},
   "source": [
    "## 4. Road Network Extraction from OpenStreetMap"
   ]
  },
  {
   "cell_type": "code",
   "execution_count": 4,
   "id": "847c551d",
   "metadata": {},
   "outputs": [
    {
     "name": "stdout",
     "output_type": "stream",
     "text": [
      "Downloaded Protobuf data 'Cracow.osm.pbf' (29.47 MB) to:\n",
      "'C:\\Users\\kniko\\AppData\\Local\\Temp\\pyrosm\\Cracow.osm.pbf'\n",
      "         access  area bicycle bridge cycleway est_width  foot footway  \\\n",
      "1          None  None    None   None     None      None  None    None   \n",
      "9          None  None    None   None     None      None  None    None   \n",
      "10         None  None    None   None     None      None  None    None   \n",
      "11         None  None    None   None     None      None  None    None   \n",
      "17  destination  None    None   None     None      None  None    None   \n",
      "\n",
      "     highway int_ref  ... tunnel  turn width   osm_id timestamp version  \\\n",
      "1   tertiary    None  ...   None  None  None  2954556         0       0   \n",
      "9   tertiary    None  ...   None  None  None  4757981         0       0   \n",
      "10  tertiary    None  ...   None  None  None  4758409         0       0   \n",
      "11  tertiary    None  ...   None  None  None  4758410         0       0   \n",
      "17  tertiary    None  ...   None  None  None  5095912         0       0   \n",
      "\n",
      "                                                 tags osm_type  \\\n",
      "1   {\"visible\":false,\"cycleway:both\":\"no\",\"source:...      way   \n",
      "9   {\"visible\":false,\"dual_carriageway\":\"yes\",\"hig...      way   \n",
      "10  {\"visible\":false,\"destination\":\"D\\u0119bniki;T...      way   \n",
      "11  {\"visible\":false,\"destination\":\"O\\u015Bwi\\u011...      way   \n",
      "17  {\"visible\":false,\"construction_end_expected\":\"...      way   \n",
      "\n",
      "                                             geometry length  \n",
      "1   LINESTRING (20.03607 50.07940, 20.03613 50.079...   93.0  \n",
      "9   LINESTRING (19.90658 50.05036, 19.90651 50.050...   47.0  \n",
      "10  LINESTRING (19.90589 50.04991, 19.90562 50.049...   35.0  \n",
      "11  LINESTRING (19.90589 50.04991, 19.90523 50.049...  152.0  \n",
      "17  LINESTRING (19.90564 50.00607, 19.90566 50.006...  214.0  \n",
      "\n",
      "[5 rows x 38 columns]\n"
     ]
    }
   ],
   "source": [
    "fp = pyrosm.get_data('Cracow')\n",
    "osm = pyrosm.OSM(fp)\n",
    "gdf_driving = osm.get_network(network_type='driving')\n",
    "gdf_filtered = gdf_driving[gdf_driving['highway'] == 'tertiary']\n",
    "gdf_filtered['geometry'] = gdf_filtered.geometry.apply(lambda x: linemerge(x) if x.geom_type == 'MultiLineString' else x)\n",
    "gdf_filtered.rename(columns={'id': 'osm_id'}, inplace=True)\n",
    "gdf_filtered[['osm_id', 'name', 'geometry']].to_file(OUTPUT_PATH / 'proj4_ex02_roads.geojson', driver='GeoJSON')\n",
    "gdf_filtered.to_csv(OUTPUT_PATH / 'proj4_ex02_gdf_filtered.csv', index=False)\n",
    "print(gdf_filtered.head())"
   ]
  },
  {
   "cell_type": "markdown",
   "id": "2f9baf2d",
   "metadata": {},
   "source": [
    "## 5. CRS Transformation and Buffer Join"
   ]
  },
  {
   "cell_type": "code",
   "execution_count": 5,
   "id": "6f4212d9",
   "metadata": {},
   "outputs": [
    {
     "name": "stdout",
     "output_type": "stream",
     "text": [
      "                               name  point_count\n",
      "0                      Aleja 3 Maja          131\n",
      "1                    Aleja Kijowska          128\n",
      "2  Aleja Marszałka Ferdinanda Focha           32\n",
      "3                           Balicka           80\n",
      "4              Bartosza Głowackiego           22\n"
     ]
    }
   ],
   "source": [
    "roads = gpd.read_file(OUTPUT_PATH / 'proj4_ex02_roads.geojson').to_crs('epsg:2178')\n",
    "points = gpd.read_file(DATA_PATH / 'proj4_points.geojson').to_crs('epsg:2178')\n",
    "roads_buf = roads.copy()\n",
    "roads_buf['geometry'] = roads.geometry.buffer(50, cap_style=2)\n",
    "joined333 = gpd.sjoin(points, roads_buf, predicate='intersects')\n",
    "street_point_counts = joined333.groupby('name').size().reset_index(name='point_count')\n",
    "street_point_counts = street_point_counts[street_point_counts['point_count'] > 0]\n",
    "street_point_counts.to_csv(OUTPUT_PATH / 'proj4_ex03_streets_points.csv', index=False)\n",
    "print(street_point_counts.head())"
   ]
  },
  {
   "cell_type": "markdown",
   "id": "3be834fe",
   "metadata": {},
   "source": [
    "## 6. Country Boundaries Visualization"
   ]
  },
  {
   "cell_type": "code",
   "execution_count": 6,
   "id": "8781d13a",
   "metadata": {},
   "outputs": [
    {
     "name": "stdout",
     "output_type": "stream",
     "text": [
      "Country boundary images saved.\n"
     ]
    }
   ],
   "source": [
    "countries = gpd.read_file(DATA_PATH / 'proj4_countries.geojson')\n",
    "countries['geometry'] = countries['geometry'].boundary\n",
    "countries.to_pickle(OUTPUT_PATH / 'proj4_ex04_gdf.pkl')\n",
    "for idx, country_name in enumerate(countries['name']):\n",
    "    img_filename = OUTPUT_PATH / f'proj4_ex04_{country_name.lower().replace(\" \", \"_\")}.png'\n",
    "    fig, ax = plt.subplots(figsize=(10, 10))\n",
    "    countries.iloc[[idx]].plot(ax=ax, edgecolor='blue', linewidth=1)\n",
    "    plt.savefig(img_filename)\n",
    "    plt.close(fig)\n",
    "print('Country boundary images saved.')"
   ]
  }
 ],
 "metadata": {
  "kernelspec": {
   "display_name": "Python 3",
   "language": "python",
   "name": "python3"
  },
  "language_info": {
   "codemirror_mode": {
    "name": "ipython",
    "version": 3
   },
   "file_extension": ".py",
   "mimetype": "text/x-python",
   "name": "python",
   "nbconvert_exporter": "python",
   "pygments_lexer": "ipython3",
   "version": "3.9.0"
  }
 },
 "nbformat": 4,
 "nbformat_minor": 5
}
